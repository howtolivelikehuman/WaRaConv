{
 "cells": [
  {
   "cell_type": "code",
   "execution_count": null,
   "metadata": {},
   "outputs": [],
   "source": [
    "# 필요 library import\n",
    "\n",
    "import pandas as pd\n",
    "import torch\n",
    "import torch.nn as nn\n",
    "import torch.optim as optim"
   ]
  },
  {
   "cell_type": "code",
   "execution_count": null,
   "metadata": {},
   "outputs": [],
   "source": [
    "def split(features, target):\n",
    "    n_samples = features.shape[0]\n",
    "    n_val = int(0.2 * n_samples)\n",
    "\n",
    "    shuffled_indices = torch.randperm(n_samples)\n",
    "\n",
    "    train_indices = shuffled_indices[:-n_val]\n",
    "    val_indices = shuffled_indices[-n_val:]\n",
    "\n",
    "    features_train = features[train_indices]\n",
    "    target_train = target[train_indices]\n",
    "\n",
    "    features_val = features[val_indices]\n",
    "    target_val = target[val_indices]\n",
    "\n",
    "    return features_train, target_train, features_val, target_val"
   ]
  },
  {
   "cell_type": "code",
   "execution_count": null,
   "metadata": {},
   "outputs": [],
   "source": [
    "# 모델을 학습시킬 training loop 정의\\n\",\n",
    "# Model을 parameter로 사용하기 때문에 모델별 정의 불필요\\n\n",
    "def training_loop(n_epochs, model, loss, optimizer, features, target):\n",
    "    # 전체 dataset을 training dataset과 validation dataset으로 분할\n",
    "    features_train, target_train, features_val, target_val = split(features, target)\n",
    "        \n",
    "    for epoch in range(1, n_epochs + 1):\n",
    "        #Training dataset에 대해 forward-pass 실행\n",
    "        predict_train = model(features_train)\n",
    "        loss_train = loss(predict_train, target_train)\n",
    "\n",
    "        # Validation data에 대한 loss는 학습에 사용하지 않으므로 with torch.no_grad() 사용\\n\",\n",
    "        with torch.no_grad():\n",
    "            predict_val = model(features_val)\n",
    "            loss_val = loss(predict_val, target_val)\n",
    "            assert loss_val.requires_grad == False\n",
    "\n",
    "        # Backward-pass를 통한 학습 실행\n",
    "        optimizer.zero_grad()\n",
    "        loss_train.backward()\n",
    "        optimizer.step()\n",
    "\n",
    "        # 학습 진행 상황을 확인하기 위해 2000 epoch 마다 training loss와 validation loss를 출력\\n\",\n",
    "        if epoch % 10000 == 0:\n",
    "            print(f\"Epoch {epoch}, Training loss {loss_train.item():.4f},\"f\" Validation loss {loss_val.item():.4f}\")"
   ]
  },
  {
   "cell_type": "code",
   "execution_count": null,
   "metadata": {},
   "outputs": [],
   "source": [
    "# 매출 예측용 dataset load\n",
    "data_2018_revenue = pd.read_csv(\"../ProcessedDataSet/동별 매출 데이터/2018_revenue.csv\", encoding='utf8')\n",
    "data_2019_revenue = pd.read_csv(\"../ProcessedDataSet/동별 매출 데이터/2019_revenue.csv\", encoding='utf8')\n",
    "data_2020_revenue = pd.read_csv(\"../ProcessedDataSet/동별 매출 데이터/2020_revenue.csv\", encoding='utf8')\n",
    "\n",
    "data_revenue = pd.concat([data_2018_revenue, data_2019_revenue, data_2020_revenue])"
   ]
  },
  {
   "cell_type": "code",
   "execution_count": null,
   "metadata": {},
   "outputs": [],
   "source": [
    "scale_to_10000 = [\\\n",
    "                  '1인가구',\n",
    "                  '2인가구',\n",
    "                  '3인가구',\n",
    "                  '4인가구',\n",
    "                  '0-9세주거',\n",
    "                  '10-19세주거',\n",
    "                  '20-29세주거',\n",
    "                  '30-39세주거',\n",
    "                  '40-49세주거',\n",
    "                  '50-59세주거',\n",
    "                  '60-69세주거',\n",
    "                  '70-79세주거',\n",
    "                  '80-89세주거'\n",
    "                 ]\n",
    "scale_to_100000 = ['임대시세']\n",
    "scale_to_10000000 = ['월매출']\n",
    "\n",
    "for s in scale_to_10000:\n",
    "    data_revenue[s] /= 10000\n",
    "    \n",
    "for s in scale_to_100000:\n",
    "    data_revenue[s] /= 100000\n",
    "    \n",
    "for s in scale_to_10000000:\n",
    "    data_revenue[s] /= 10000000"
   ]
  },
  {
   "cell_type": "code",
   "execution_count": null,
   "metadata": {},
   "outputs": [],
   "source": [
    "# Dataset을 feature와 target으로 분할\n",
    "features_revenue_col = [\\\n",
    "                        '임대시세',\n",
    "                        '0-9세주거',\n",
    "                        '10-19세주거',\n",
    "                        '20-29세주거',\n",
    "                        '30-39세주거',\n",
    "                        '40-49세주거',\n",
    "                        '50-59세주거',\n",
    "                        '60-69세주거',\n",
    "                        '70-79세주거',\n",
    "                        '80-89세주거',\n",
    "                        '1인가구',\n",
    "                        '2인가구',\n",
    "                        '3인가구',\n",
    "                        '4인가구',\n",
    "                        '편의점수',\n",
    "                        '지하철역수'\n",
    "                       ]\n",
    "\n",
    "target_revenue_col = ['월매출']\n",
    "\n",
    "features_revenue = data_revenue[features_revenue_col].values.astype('float32')\n",
    "target_revenue = data_revenue[target_revenue_col].values.astype('float32')"
   ]
  },
  {
   "cell_type": "code",
   "execution_count": null,
   "metadata": {},
   "outputs": [],
   "source": [
    "tensor_features_revenue = torch.tensor(features_revenue)\n",
    "tensor_target_revenue = torch.tensor(target_revenue)"
   ]
  },
  {
   "cell_type": "code",
   "execution_count": null,
   "metadata": {},
   "outputs": [],
   "source": [
    "input_len = 16\n",
    "output_len = 1\n",
    "epochs = 100000\n",
    "learning_rate = 5e-4\n",
    "loss = nn.L1Loss()"
   ]
  },
  {
   "cell_type": "code",
   "execution_count": null,
   "metadata": {},
   "outputs": [],
   "source": [
    "model_revenue = nn.Sequential(\\\n",
    "                             nn.Linear(input_len,2*input_len),\n",
    "                             nn.Tanh(),\n",
    "                             nn.Dropout(0.25),\n",
    "                             nn.Linear(2*input_len,input_len),\n",
    "                             nn.Tanh(),\n",
    "                             nn.Dropout(0.25),\n",
    "                             nn.Linear(input_len,output_len))\n",
    "\n",
    "optimizer_revenue = optim.Adam(model_revenue.parameters(),learning_rate)\n",
    "\n",
    "training_loop(n_epochs = epochs, model = model_revenue, loss = loss, optimizer = optimizer_revenue, features = tensor_features_revenue, target = tensor_target_revenue)"
   ]
  },
  {
   "cell_type": "code",
   "execution_count": null,
   "metadata": {},
   "outputs": [],
   "source": [
    "data_2018_closed = pd.read_csv(\"../ProcessedDataSet/동별 폐업률 데이터/2018_closed.csv\", encoding='utf8')\n",
    "data_2019_closed = pd.read_csv(\"../ProcessedDataSet/동별 폐업률 데이터/2019_closed.csv\", encoding='utf8')\n",
    "data_2020_closed = pd.read_csv(\"../ProcessedDataSet/동별 폐업률 데이터/2020_closed.csv\", encoding='utf8')\n",
    "\n",
    "data_closed = pd.concat([data_2018_closed, data_2019_closed, data_2020_closed])"
   ]
  },
  {
   "cell_type": "code",
   "execution_count": null,
   "metadata": {},
   "outputs": [],
   "source": [
    "# Dataset을 feature와 target으로 분할\n",
    "features_closed_col = [\\\n",
    "                        '임대시세',\n",
    "                        '0-9세주거',\n",
    "                        '10-19세주거',\n",
    "                        '20-29세주거',\n",
    "                        '30-39세주거',\n",
    "                        '40-49세주거',\n",
    "                        '50-59세주거',\n",
    "                        '60-69세주거',\n",
    "                        '70-79세주거',\n",
    "                        '80-89세주거',\n",
    "                        '1인가구',\n",
    "                        '2인가구',\n",
    "                        '3인가구',\n",
    "                        '4인가구',\n",
    "                        '편의점수',\n",
    "                        '지하철역수'\n",
    "                       ]\n",
    "\n",
    "target_closed_col = ['폐업률']\n",
    "\n",
    "features_closed = data_closed[features_closed_col].values.astype('float32')\n",
    "target_closed = data_closed[target_closed_col].values.astype('float32')"
   ]
  },
  {
   "cell_type": "code",
   "execution_count": null,
   "metadata": {},
   "outputs": [],
   "source": [
    "tensor_features_closed = torch.tensor(features_closed)\n",
    "tensor_target_closed = torch.tensor(target_closed)"
   ]
  },
  {
   "cell_type": "code",
   "execution_count": null,
   "metadata": {},
   "outputs": [],
   "source": [
    "model_closed = nn.Sequential(\\\n",
    "                             nn.Linear(input_len,input_len),\n",
    "                             nn.Tanh(),\n",
    "                             nn.Dropout(0.25),\n",
    "                             nn.Linear(input_len,output_len))\n",
    "\n",
    "optimizer_closed = optim.Adam(model_closed.parameters(),learning_rate)\n",
    "\n",
    "training_loop(n_epochs = epochs, model = model_closed, loss = loss, optimizer = optimizer_closed, features = tensor_features_closed, target = tensor_target_closed)"
   ]
  }
 ],
 "metadata": {
  "kernelspec": {
   "display_name": "Pytorch",
   "language": "python",
   "name": "pytorch"
  },
  "language_info": {
   "codemirror_mode": {
    "name": "ipython",
    "version": 3
   },
   "file_extension": ".py",
   "mimetype": "text/x-python",
   "name": "python",
   "nbconvert_exporter": "python",
   "pygments_lexer": "ipython3",
   "version": "3.8.3"
  }
 },
 "nbformat": 4,
 "nbformat_minor": 4
}
