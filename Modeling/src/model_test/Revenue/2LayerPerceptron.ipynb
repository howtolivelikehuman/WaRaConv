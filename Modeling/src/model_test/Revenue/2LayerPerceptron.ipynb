{
 "cells": [
  {
   "cell_type": "code",
   "execution_count": null,
   "metadata": {},
   "outputs": [],
   "source": [
    "# 필요 library import\n",
    "\n",
    "import pandas as pd\n",
    "import torch\n",
    "import torch.nn as nn\n",
    "import torch.optim as optim"
   ]
  },
  {
   "cell_type": "code",
   "execution_count": null,
   "metadata": {},
   "outputs": [],
   "source": [
    "def split(features, target):\n",
    "    n_samples = features.shape[0]\n",
    "    n_val = int(0.2 * n_samples)\n",
    "\n",
    "    shuffled_indices = torch.randperm(n_samples)\n",
    "\n",
    "    train_indices = shuffled_indices[:-n_val]\n",
    "    val_indices = shuffled_indices[-n_val:]\n",
    "\n",
    "    features_train = features[train_indices]\n",
    "    target_train = target[train_indices]\n",
    "\n",
    "    features_val = features[val_indices]\n",
    "    target_val = target[val_indices]\n",
    "\n",
    "    return features_train, target_train, features_val, target_val"
   ]
  },
  {
   "cell_type": "code",
   "execution_count": null,
   "metadata": {},
   "outputs": [],
   "source": [
    "# 모델을 학습시킬 training loop 정의\\n\",\n",
    "# Model을 parameter로 사용하기 때문에 모델별 정의 불필요\\n\n",
    "def training_loop(n_epochs, model, loss, optimizer, features_train, target_train, features_val, target_val):\n",
    "        \n",
    "    for epoch in range(1, n_epochs + 1):\n",
    "        #Training dataset에 대해 forward-pass 실행\n",
    "        predict_train = model(features_train)\n",
    "        loss_train = loss(predict_train, target_train)\n",
    "\n",
    "        # Validation data에 대한 loss는 학습에 사용하지 않으므로 with torch.no_grad() 사용\\n\",\n",
    "        with torch.no_grad():\n",
    "            predict_val = model(features_val)\n",
    "            loss_val = loss(predict_val, target_val)\n",
    "            assert loss_val.requires_grad == False\n",
    "\n",
    "        # Backward-pass를 통한 학습 실행\n",
    "        optimizer.zero_grad()\n",
    "        loss_train.backward()\n",
    "        optimizer.step()\n",
    "\n",
    "        # 학습 진행 상황을 확인하기 위해 2000 epoch 마다 training loss와 validation loss를 출력\\n\",\n",
    "        if epoch % 10000 == 0:\n",
    "            print(f\"Epoch {epoch}, Training loss {loss_train.item():.4f},\"f\" Validation loss {loss_val.item():.4f}\")"
   ]
  },
  {
   "cell_type": "code",
   "execution_count": null,
   "metadata": {},
   "outputs": [],
   "source": [
    "# 매출 예측용 dataset load\n",
    "data = pd.read_csv(\"../../../dataset/to_trian_data/revenue_removed_0.csv\", encoding='utf8')"
   ]
  },
  {
   "cell_type": "code",
   "execution_count": null,
   "metadata": {},
   "outputs": [],
   "source": [
    "scale_to_100 = [\\\n",
    "                '편의점수',\n",
    "                '슈퍼마켓수',\n",
    "                '여관수',\n",
    "                '외식업수',\n",
    "                '주유소수',\n",
    "                '피시방수',\n",
    "                '당구장수',\n",
    "                '노래방수',\n",
    "                '독서실수',\n",
    "                '지하철역수'\n",
    "               ]\n",
    "scale_to_1000 = [\\\n",
    "                 '1인가구',\n",
    "                 '2인가구',\n",
    "                 '3인가구',\n",
    "                 '4인가구',\n",
    "                \n",
    "                ]\n",
    "scale_to_10000 = [\\\n",
    "                  '0-9세주거',\n",
    "                  '10-19세주거',\n",
    "                  '20-29세주거',\n",
    "                  '30-39세주거',\n",
    "                  '40-49세주거',\n",
    "                  '50-59세주거',\n",
    "                  '60-69세주거',\n",
    "                  '70-79세주거',\n",
    "                  '80-89세주거',\n",
    "                  '직장인구',\n",
    "                  '생활인구'\n",
    "                 ]\n",
    "scale_to_100000 = ['임대시세']\n",
    "\n",
    "scale_to_10000000 = ['월매출']\n",
    "\n",
    "for s in scale_to_100:\n",
    "    data[s] /= 100\n",
    "    \n",
    "for s in scale_to_1000:\n",
    "    data[s] /= 1000\n",
    "\n",
    "for s in scale_to_10000:\n",
    "    data[s] /= 10000\n",
    "    \n",
    "for s in scale_to_100000:\n",
    "    data[s] /= 100000\n",
    "    \n",
    "for s in scale_to_10000000:\n",
    "    data[s] /= 10000000"
   ]
  },
  {
   "cell_type": "code",
   "execution_count": null,
   "metadata": {},
   "outputs": [],
   "source": [
    "target = data['월매출'].values.astype('float32')\n",
    "features = data.drop(columns=['월매출']).values.astype('float32')"
   ]
  },
  {
   "cell_type": "code",
   "execution_count": null,
   "metadata": {},
   "outputs": [],
   "source": [
    "tensor_features = torch.tensor(features)\n",
    "tensor_target = torch.tensor(target).unsqueeze(-1)"
   ]
  },
  {
   "cell_type": "code",
   "execution_count": null,
   "metadata": {},
   "outputs": [],
   "source": [
    "features_train, target_train, features_val, target_val = split(tensor_features, tensor_target)"
   ]
  },
  {
   "cell_type": "code",
   "execution_count": null,
   "metadata": {},
   "outputs": [],
   "source": [
    "input_len = 26\n",
    "output_len = 1\n",
    "epochs = 100000\n",
    "learning_rate = 1e-5\n",
    "loss = nn.MSELoss()"
   ]
  },
  {
   "cell_type": "code",
   "execution_count": null,
   "metadata": {},
   "outputs": [],
   "source": [
    "model = nn.Sequential(\\\n",
    "                      nn.Linear(input_len,input_len),\n",
    "                      nn.Tanh(),\n",
    "                      nn.Dropout(0.5),\n",
    "                      nn.Linear(input_len,output_len))\n",
    "\n",
    "optimizer = optim.Adam(model.parameters(),learning_rate)\n",
    "\n",
    "training_loop(epochs, model, loss, optimizer, features_train, target_train, features_val, target_val)"
   ]
  },
  {
   "cell_type": "code",
   "execution_count": null,
   "metadata": {},
   "outputs": [],
   "source": [
    "predict = model(features_val)\n",
    "\n",
    "MSE = loss(predict, target_val)\n",
    "print(\"MSE: \",MSE.item())"
   ]
  }
 ],
 "metadata": {
  "kernelspec": {
   "display_name": "Pytorch",
   "language": "python",
   "name": "pytorch"
  },
  "language_info": {
   "codemirror_mode": {
    "name": "ipython",
    "version": 3
   },
   "file_extension": ".py",
   "mimetype": "text/x-python",
   "name": "python",
   "nbconvert_exporter": "python",
   "pygments_lexer": "ipython3",
   "version": "3.8.3"
  }
 },
 "nbformat": 4,
 "nbformat_minor": 4
}
