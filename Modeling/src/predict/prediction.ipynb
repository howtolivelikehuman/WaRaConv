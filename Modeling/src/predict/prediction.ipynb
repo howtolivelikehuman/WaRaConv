{
 "cells": [
  {
   "cell_type": "code",
   "execution_count": null,
   "metadata": {},
   "outputs": [],
   "source": [
    "# 필요 library import\n",
    "import pandas as pd\n",
    "import numpy as np\n",
    "import torch\n",
    "import joblib"
   ]
  },
  {
   "cell_type": "code",
   "execution_count": null,
   "metadata": {},
   "outputs": [],
   "source": [
    "actual_revenue = pd.read_csv('../../dataset/labels/revenue.csv')\n",
    "actual_closed = pd.read_csv('../../dataset/labels/closed.csv')"
   ]
  },
  {
   "cell_type": "code",
   "execution_count": null,
   "metadata": {},
   "outputs": [],
   "source": [
    "to_predict_revenue = pd.read_csv('../../dataset/to_predict_data/revenue.csv')\n",
    "to_predict_closed = pd.read_csv('../../dataset/to_predict_data/closed.csv')"
   ]
  },
  {
   "cell_type": "code",
   "execution_count": null,
   "metadata": {},
   "outputs": [],
   "source": [
    "to_score_revenue = pd.read_csv('../../dataset/to_score_data/revenue.csv')\n",
    "to_score_closed = pd.read_csv('../../dataset/to_score_data/closed.csv')"
   ]
  },
  {
   "cell_type": "code",
   "execution_count": null,
   "metadata": {},
   "outputs": [],
   "source": [
    "actual_data_closed = actual_closed.drop(columns=['코드'])\n",
    "actual_code_closed = actual_closed['코드']"
   ]
  },
  {
   "cell_type": "code",
   "execution_count": null,
   "metadata": {},
   "outputs": [],
   "source": [
    "predict_features_revenue_1 = to_predict_revenue.drop(columns=['코드']).values.astype('float32')\n",
    "score_features_revenue_1 = to_score_revenue.drop(columns=['코드']).values.astype('float32')"
   ]
  },
  {
   "cell_type": "code",
   "execution_count": null,
   "metadata": {},
   "outputs": [],
   "source": [
    "scale_to_100 = [\\\n",
    "                '편의점수',\n",
    "                '슈퍼마켓수',\n",
    "                '여관수',\n",
    "                '외식업수',\n",
    "                '주유소수',\n",
    "                '피시방수',\n",
    "                '당구장수',\n",
    "                '노래방수',\n",
    "                '독서실수',\n",
    "                '지하철역수'\n",
    "               ]\n",
    "scale_to_1000 = [\\\n",
    "                 '1인가구',\n",
    "                 '2인가구',\n",
    "                 '3인가구',\n",
    "                 '4인가구',\n",
    "                \n",
    "                ]\n",
    "scale_to_10000 = [\\\n",
    "                  '0-9세주거',\n",
    "                  '10-19세주거',\n",
    "                  '20-29세주거',\n",
    "                  '30-39세주거',\n",
    "                  '40-49세주거',\n",
    "                  '50-59세주거',\n",
    "                  '60-69세주거',\n",
    "                  '70-79세주거',\n",
    "                  '80-89세주거',\n",
    "                  '직장인구',\n",
    "                  '생활인구'\n",
    "                 ]\n",
    "scale_to_100000 = ['임대시세']\n",
    "\n",
    "for s in scale_to_100:\n",
    "    to_predict_closed[s] /= 100\n",
    "    to_predict_revenue[s] /= 100\n",
    "    to_score_closed[s] /= 100\n",
    "    to_score_revenue[s] /= 100\n",
    "    \n",
    "for s in scale_to_1000:\n",
    "    to_predict_closed[s] /= 1000\n",
    "    to_predict_revenue[s] /= 1000\n",
    "    to_score_closed[s] /= 1000\n",
    "    to_score_revenue[s] /= 1000\n",
    "\n",
    "for s in scale_to_10000:\n",
    "    to_predict_closed[s] /= 10000\n",
    "    to_predict_revenue[s] /= 10000\n",
    "    to_score_closed[s] /= 10000\n",
    "    to_score_revenue[s] /= 10000\n",
    "    \n",
    "for s in scale_to_100000:\n",
    "    to_predict_closed[s] /= 100000\n",
    "    to_predict_revenue[s] /= 100000\n",
    "    to_score_closed[s] /= 100000\n",
    "    to_score_revenue[s] /= 100000"
   ]
  },
  {
   "cell_type": "code",
   "execution_count": null,
   "metadata": {},
   "outputs": [],
   "source": [
    "predict_features_revenue_2 = to_predict_revenue.drop(columns=['코드']).values.astype('float32')\n",
    "predict_features_closed = to_predict_closed.drop(columns=['코드']).values.astype('float32')\n",
    "predict_code_revenue = to_predict_revenue['코드']\n",
    "predict_code_closed = to_predict_closed['코드']\n",
    "tensor_predict_features_revenue = torch.tensor(predict_features_revenue)\n",
    "tensor_predict_features_closed = torch.tensor(predict_features_closed)"
   ]
  },
  {
   "cell_type": "code",
   "execution_count": null,
   "metadata": {},
   "outputs": [],
   "source": [
    "score_features_revenue_2 = to_score_revenue.drop(columns=['코드']).values.astype('float32')\n",
    "score_features_closed = to_score_closed.drop(columns=['코드']).values.astype('float32')\n",
    "score_code_revenue_2 = to_score_revenue['코드']\n",
    "score_code_closed = to_score_closed['코드']\n",
    "tensor_score_features_revenue = torch.tensor(score_features_revenue)\n",
    "tensor_score_features_closed = torch.tensor(score_features_closed)"
   ]
  },
  {
   "cell_type": "code",
   "execution_count": null,
   "metadata": {},
   "outputs": [],
   "source": [
    "model_revenue_1 = joblib.load('../../models/revenue_1.pkl')\n",
    "model_revenue_2 = torch.load('../../models/revenue_2.pt')\n",
    "model_closed = torch.load('../../models/closed.pt')"
   ]
  },
  {
   "cell_type": "code",
   "execution_count": null,
   "metadata": {},
   "outputs": [],
   "source": [
    "predict_revenue_1 = pd.DataFrame(model_revenue_1.predict(predict_features_revenue_1),columns=['expectedprofit2020'])"
   ]
  },
  {
   "cell_type": "code",
   "execution_count": null,
   "metadata": {},
   "outputs": [],
   "source": [
    "tensor_predict_revenue_2 = model_revenue(tensor_predict_features_revenue)\n",
    "tensor_predict_closed = model_revenue(tensor_predict_features_closed)\n",
    "tensor_score_revenue_2 = model_revenue(tensor_score_features_revenue)\n",
    "tensor_score_closed = model_revenue(tensor_score_features_closed)"
   ]
  },
  {
   "cell_type": "code",
   "execution_count": null,
   "metadata": {},
   "outputs": [],
   "source": [
    "predict_revenue_2 = pd.DataFrame(tensor_predict_revenue_2.detach().numpy(),columns=['expectedprofit2020'])\n",
    "predict_closed = pd.DataFrame(tensor_predict_closed.detach().numpy(),columns=['expectedsurvive2020'])\n",
    "score_revenue_2 = pd.DataFrame(tensor_score_revenue_2.detach().numpy(),columns=['profitscore'])\n",
    "score_closed = pd.DataFrame(tensor_score_closed.detach().numpy(),columns=['stablescore'])"
   ]
  },
  {
   "cell_type": "code",
   "execution_count": null,
   "metadata": {},
   "outputs": [],
   "source": [
    "predict_revenue = (predict_revenue_1 + 10000000* predict_revenue_2) /2"
   ]
  },
  {
   "cell_type": "code",
   "execution_count": null,
   "metadata": {},
   "outputs": [],
   "source": [
    "actual_data_survive = 100 - actual_data_closed\n",
    "actual_survive = pd.concat([actual_code_closed,actual_data_survive], axis=1)\n",
    "print(actual_survive)"
   ]
  },
  {
   "cell_type": "code",
   "execution_count": null,
   "metadata": {},
   "outputs": [],
   "source": [
    "predict_survive = 100 - predict_closed\n",
    "score_survive = 100 - score_closed"
   ]
  },
  {
   "cell_type": "code",
   "execution_count": null,
   "metadata": {},
   "outputs": [],
   "source": [
    "predict_survive = pd.concat([predict_code_closed,predict_survive], axis=1)\n",
    "predict_revenue = pd.concat([predict_code_revenue,predict_revenue], axis=1)"
   ]
  },
  {
   "cell_type": "code",
   "execution_count": null,
   "metadata": {},
   "outputs": [],
   "source": [
    "score_survive = 100 + 10*((score_survive - score_survive.mean()) / score_survive.std())\n",
    "score_revenue = 100 + 10*((score_revenue - score_revenue.mean()) / score_revenue.std())\n",
    "survive_score = pd.concat([score_code_closed,score_survive], axis=1)\n",
    "revenue_score = pd.concat([score_code_revenue,score_revenue], axis=1)"
   ]
  },
  {
   "cell_type": "code",
   "execution_count": null,
   "metadata": {},
   "outputs": [],
   "source": [
    "survive = pd.merge(actual_survive,predict_survive,on='코드',how='outer')\n",
    "survive = pd.merge(survive,survive_score,on='코드',how='outer')\n",
    "survive = survive.fillna(0)\n",
    "print(survive)"
   ]
  },
  {
   "cell_type": "code",
   "execution_count": null,
   "metadata": {},
   "outputs": [],
   "source": [
    "revenue = pd.merge(actual_revenue,predict_revenue,on='코드',how='outer')\n",
    "revenue = pd.merge(revenue,revenue_score,on='코드',how='outer')\n",
    "revenue = revenue.fillna(0)\n",
    "print(revenue)"
   ]
  },
  {
   "cell_type": "code",
   "execution_count": null,
   "metadata": {},
   "outputs": [],
   "source": [
    "data = pd.merge(revenue,survive,on='코드',how='outer')\n",
    "data = data.rename(columns={'코드':'code','2018월매출':'profit2018','2019월매출':'profit2019','2020월매출':'profit2020'})\n",
    "data = data.rename(columns={'2018폐업률':'survive2018','2019폐업률':'survive2019','2020폐업률':'survive2020'})\n",
    "data = data[['code','profitscore','stablescore','profit2018','profit2019','profit2020','expectedprofit2020','survive2018','survive2019','survive2020','expectedsurvive2020']]\n",
    "data.to_csv(\"../../result/rank.csv\", encoding='utf8')"
   ]
  }
 ],
 "metadata": {
  "kernelspec": {
   "display_name": "Pytorch",
   "language": "python",
   "name": "pytorch"
  },
  "language_info": {
   "codemirror_mode": {
    "name": "ipython",
    "version": 3
   },
   "file_extension": ".py",
   "mimetype": "text/x-python",
   "name": "python",
   "nbconvert_exporter": "python",
   "pygments_lexer": "ipython3",
   "version": "3.8.3"
  }
 },
 "nbformat": 4,
 "nbformat_minor": 4
}
