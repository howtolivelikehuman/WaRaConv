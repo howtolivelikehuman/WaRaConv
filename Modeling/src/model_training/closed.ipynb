{
 "cells": [
  {
   "cell_type": "code",
   "execution_count": 1,
   "metadata": {},
   "outputs": [],
   "source": [
    "# 필요 library import\n",
    "\n",
    "import pandas as pd\n",
    "import torch\n",
    "import torch.nn as nn\n",
    "import torch.optim as optim"
   ]
  },
  {
   "cell_type": "code",
   "execution_count": 2,
   "metadata": {},
   "outputs": [],
   "source": [
    "def split(features, target):\n",
    "    n_samples = features.shape[0]\n",
    "    n_val = int(0.2 * n_samples)\n",
    "\n",
    "    shuffled_indices = torch.randperm(n_samples)\n",
    "\n",
    "    train_indices = shuffled_indices[:-n_val]\n",
    "    val_indices = shuffled_indices[-n_val:]\n",
    "\n",
    "    features_train = features[train_indices]\n",
    "    target_train = target[train_indices]\n",
    "\n",
    "    features_val = features[val_indices]\n",
    "    target_val = target[val_indices]\n",
    "\n",
    "    return features_train, target_train, features_val, target_val"
   ]
  },
  {
   "cell_type": "code",
   "execution_count": 3,
   "metadata": {},
   "outputs": [],
   "source": [
    "# 모델을 학습시킬 training loop 정의\\n\",\n",
    "# Model을 parameter로 사용하기 때문에 모델별 정의 불필요\\n\n",
    "def training_loop(n_epochs, model, loss, optimizer, features_train, target_train, features_val, target_val):\n",
    "        \n",
    "    for epoch in range(1, n_epochs + 1):\n",
    "        #Training dataset에 대해 forward-pass 실행\n",
    "        predict_train = model(features_train)\n",
    "        loss_train = loss(predict_train, target_train)\n",
    "\n",
    "        # Validation data에 대한 loss는 학습에 사용하지 않으므로 with torch.no_grad() 사용\\n\",\n",
    "        with torch.no_grad():\n",
    "            predict_val = model(features_val)\n",
    "            loss_val = loss(predict_val, target_val)\n",
    "            assert loss_val.requires_grad == False\n",
    "\n",
    "        # Backward-pass를 통한 학습 실행\n",
    "        optimizer.zero_grad()\n",
    "        loss_train.backward()\n",
    "        optimizer.step()\n",
    "\n",
    "        # 학습 진행 상황을 확인하기 위해 2000 epoch 마다 training loss와 validation loss를 출력\\n\",\n",
    "        if epoch % 10000 == 0:\n",
    "            print(f\"Epoch {epoch}, Training loss {loss_train.item():.4f},\"f\" Validation loss {loss_val.item():.4f}\")"
   ]
  },
  {
   "cell_type": "code",
   "execution_count": 4,
   "metadata": {},
   "outputs": [],
   "source": [
    "# 매출 예측용 dataset load\n",
    "data = pd.read_csv(\"../../dataset/to_trian_data/close.csv\", encoding='utf8')"
   ]
  },
  {
   "cell_type": "code",
   "execution_count": 5,
   "metadata": {},
   "outputs": [],
   "source": [
    "scale_to_100 = [\\\n",
    "                '편의점수',\n",
    "                '슈퍼마켓수',\n",
    "                '여관수',\n",
    "                '외식업수',\n",
    "                '주유소수',\n",
    "                '피시방수',\n",
    "                '당구장수',\n",
    "                '노래방수',\n",
    "                '독서실수',\n",
    "                '지하철역수'\n",
    "               ]\n",
    "scale_to_1000 = [\\\n",
    "                 '1인가구',\n",
    "                 '2인가구',\n",
    "                 '3인가구',\n",
    "                 '4인가구',\n",
    "                \n",
    "                ]\n",
    "scale_to_10000 = [\\\n",
    "                  '0-9세주거',\n",
    "                  '10-19세주거',\n",
    "                  '20-29세주거',\n",
    "                  '30-39세주거',\n",
    "                  '40-49세주거',\n",
    "                  '50-59세주거',\n",
    "                  '60-69세주거',\n",
    "                  '70-79세주거',\n",
    "                  '80-89세주거',\n",
    "                  '직장인구',\n",
    "                  '생활인구'\n",
    "                 ]\n",
    "scale_to_100000 = ['임대시세']\n",
    "\n",
    "for s in scale_to_100:\n",
    "    data[s] /= 100\n",
    "    \n",
    "for s in scale_to_1000:\n",
    "    data[s] /= 1000\n",
    "\n",
    "for s in scale_to_10000:\n",
    "    data[s] /= 10000\n",
    "    \n",
    "for s in scale_to_100000:\n",
    "    data[s] /= 100000"
   ]
  },
  {
   "cell_type": "code",
   "execution_count": 6,
   "metadata": {},
   "outputs": [],
   "source": [
    "target = data['폐업률'].values.astype('float32').ravel()\n",
    "features = data.drop(columns=['폐업률']).values.astype('float32')"
   ]
  },
  {
   "cell_type": "code",
   "execution_count": 7,
   "metadata": {},
   "outputs": [],
   "source": [
    "tensor_features = torch.tensor(features)\n",
    "tensor_target = torch.tensor(target).unsqueeze(-1)"
   ]
  },
  {
   "cell_type": "code",
   "execution_count": 13,
   "metadata": {},
   "outputs": [],
   "source": [
    "features_train, target_train, features_val, target_val = split(tensor_features, tensor_target)"
   ]
  },
  {
   "cell_type": "code",
   "execution_count": 9,
   "metadata": {},
   "outputs": [],
   "source": [
    "input_len = 26\n",
    "output_len = 1\n",
    "epochs = 100000\n",
    "learning_rate = 1e-4\n",
    "loss = nn.MSELoss()"
   ]
  },
  {
   "cell_type": "code",
   "execution_count": 14,
   "metadata": {},
   "outputs": [
    {
     "name": "stdout",
     "output_type": "stream",
     "text": [
      "Epoch 10000, Training loss 28.7494, Validation loss 19.4616\n",
      "Epoch 20000, Training loss 24.9155, Validation loss 16.7130\n",
      "Epoch 30000, Training loss 23.9296, Validation loss 16.1604\n",
      "Epoch 40000, Training loss 23.6879, Validation loss 16.1812\n",
      "Epoch 50000, Training loss 23.6140, Validation loss 16.2225\n",
      "Epoch 60000, Training loss 23.5907, Validation loss 16.2313\n",
      "Epoch 70000, Training loss 23.5752, Validation loss 16.2366\n",
      "Epoch 80000, Training loss 23.5644, Validation loss 16.2391\n",
      "Epoch 90000, Training loss 23.5553, Validation loss 16.2393\n",
      "Epoch 100000, Training loss 23.5470, Validation loss 16.2388\n"
     ]
    }
   ],
   "source": [
    "model = nn.Linear(input_len,output_len)\n",
    "\n",
    "optimizer = optim.Adam(model.parameters(),learning_rate)\n",
    "\n",
    "training_loop(epochs, model, loss, optimizer, features_train, target_train, features_val, target_val)"
   ]
  },
  {
   "cell_type": "code",
   "execution_count": null,
   "metadata": {},
   "outputs": [],
   "source": [
    "torch.save(model,'../../models/closed.pt')"
   ]
  }
 ],
 "metadata": {
  "kernelspec": {
   "display_name": "Pytorch",
   "language": "python",
   "name": "pytorch"
  },
  "language_info": {
   "codemirror_mode": {
    "name": "ipython",
    "version": 3
   },
   "file_extension": ".py",
   "mimetype": "text/x-python",
   "name": "python",
   "nbconvert_exporter": "python",
   "pygments_lexer": "ipython3",
   "version": "3.8.3"
  }
 },
 "nbformat": 4,
 "nbformat_minor": 4
}
