{
 "cells": [
  {
   "cell_type": "code",
   "execution_count": null,
   "metadata": {},
   "outputs": [],
   "source": [
    "# 필요 library import\n",
    "import pandas as pd\n",
    "from sklearn.ensemble import RandomForestRegressor\n",
    "from sklearn.metrics import mean_absolute_error\n",
    "from sklearn.model_selection import train_test_split"
   ]
  },
  {
   "cell_type": "code",
   "execution_count": null,
   "metadata": {},
   "outputs": [],
   "source": [
    "# 매출 예측용 dataset load\n",
    "data_2018_revenue = pd.read_csv(\"../ProcessedDataSet/동별 매출 데이터/2018_revenue.csv\", encoding='utf8')\n",
    "data_2019_revenue = pd.read_csv(\"../ProcessedDataSet/동별 매출 데이터/2019_revenue.csv\", encoding='utf8')\n",
    "data_2020_revenue = pd.read_csv(\"../ProcessedDataSet/동별 매출 데이터/2020_revenue.csv\", encoding='utf8')\n",
    "\n",
    "data_revenue = pd.concat([data_2018_revenue, data_2019_revenue, data_2020_revenue])"
   ]
  },
  {
   "cell_type": "code",
   "execution_count": null,
   "metadata": {},
   "outputs": [],
   "source": [
    "# Dataset을 feature와 target으로 분할\n",
    "features_revenue_col = [\\\n",
    "                        '임대시세',\n",
    "                        '10-19세주거',\n",
    "                        '20-29세주거',\n",
    "                        '30-39세주거',\n",
    "                        '40-49세주거',\n",
    "                        '50-59세주거',\n",
    "                        '60-69세주거',\n",
    "                        '70-79세주거',\n",
    "                        '80-89세주거',\n",
    "                        '1인가구',\n",
    "                        '2인가구',\n",
    "                        '3인가구',\n",
    "                        '4인가구',\n",
    "                        '편의점수',\n",
    "                        '지하철역수'\n",
    "                       ]\n",
    "\n",
    "target_revenue_col = ['월매출']\n",
    "\n",
    "features_revenue = data_revenue[features_revenue_col].values.astype('float32')\n",
    "target_revenue = data_revenue[target_revenue_col].values.astype('float32').ravel()"
   ]
  },
  {
   "cell_type": "code",
   "execution_count": null,
   "metadata": {},
   "outputs": [],
   "source": [
    "# Train dataset과 validation dataset으로 분할\n",
    "train_features_revenue, val_features_revenue,\\\n",
    "train_target_revenue, val_target_revenue = \\\n",
    "train_test_split(features_revenue, target_revenue, test_size = 0.2, random_state=1)"
   ]
  },
  {
   "cell_type": "code",
   "execution_count": null,
   "metadata": {},
   "outputs": [],
   "source": [
    "# Random forest regressor를 만들어 fitting 후 validation data를 사용한 예측값 생성\n",
    "regressor_revenue = RandomForestRegressor()\n",
    "regressor_revenue.fit(train_features_revenue, train_target_revenue)\n",
    "\n",
    "prediction_revenue = regressor_revenue.predict(val_features_revenue)"
   ]
  },
  {
   "cell_type": "code",
   "execution_count": null,
   "metadata": {},
   "outputs": [],
   "source": [
    "# MAE를 사용하여 성능 분석\n",
    "loss_revenue = mean_absolute_error(prediction_revenue, val_target_revenue)\n",
    "print(\"MAE for revenue: \",loss_revenue)"
   ]
  },
  {
   "cell_type": "code",
   "execution_count": null,
   "metadata": {},
   "outputs": [],
   "source": [
    "data_2018_closed = pd.read_csv(\"../ProcessedDataSet/동별 폐업률 데이터/2018_closed.csv\", encoding='utf8')\n",
    "data_2019_closed = pd.read_csv(\"../ProcessedDataSet/동별 폐업률 데이터/2019_closed.csv\", encoding='utf8')\n",
    "data_2020_closed = pd.read_csv(\"../ProcessedDataSet/동별 폐업률 데이터/2020_closed.csv\", encoding='utf8')\n",
    "\n",
    "data_closed = pd.concat([data_2018_closed, data_2019_closed, data_2020_closed])"
   ]
  },
  {
   "cell_type": "code",
   "execution_count": null,
   "metadata": {},
   "outputs": [],
   "source": [
    "features_closed_col = [\\\n",
    "                        '임대시세',\n",
    "                        '10-19세주거',\n",
    "                        '20-29세주거',\n",
    "                        '30-39세주거',\n",
    "                        '40-49세주거',\n",
    "                        '50-59세주거',\n",
    "                        '60-69세주거',\n",
    "                        '70-79세주거',\n",
    "                        '80-89세주거',\n",
    "                        '1인가구',\n",
    "                        '2인가구',\n",
    "                        '3인가구',\n",
    "                        '4인가구',\n",
    "                        '편의점수',\n",
    "                        '지하철역수'\n",
    "                       ]\n",
    "\n",
    "target_closed_col = ['폐업률']\n",
    "\n",
    "features_closed = data_closed[features_closed_col].values.astype('float32')\n",
    "target_closed = data_closed[target_closed_col].values.astype('float32').ravel()"
   ]
  },
  {
   "cell_type": "code",
   "execution_count": null,
   "metadata": {},
   "outputs": [],
   "source": [
    "train_features_closed, val_features_closed,\\\n",
    "train_target_closed, val_target_closed = \\\n",
    "train_test_split(features_closed, target_closed, test_size = 0.2, random_state=1)"
   ]
  },
  {
   "cell_type": "code",
   "execution_count": null,
   "metadata": {},
   "outputs": [],
   "source": [
    "regressor_closed = RandomForestRegressor()\n",
    "regressor_closed.fit(train_features_closed, train_target_closed)\n",
    "\n",
    "prediction_closed = regressor_closed.predict(val_features_closed)"
   ]
  },
  {
   "cell_type": "code",
   "execution_count": null,
   "metadata": {},
   "outputs": [],
   "source": [
    "loss_closed = mean_absolute_error(prediction_closed, val_target_closed)\n",
    "print(\"MAE for closed: \",loss_closed)"
   ]
  }
 ],
 "metadata": {
  "kernelspec": {
   "display_name": "Pytorch",
   "language": "python",
   "name": "pytorch"
  },
  "language_info": {
   "codemirror_mode": {
    "name": "ipython",
    "version": 3
   },
   "file_extension": ".py",
   "mimetype": "text/x-python",
   "name": "python",
   "nbconvert_exporter": "python",
   "pygments_lexer": "ipython3",
   "version": "3.8.3"
  }
 },
 "nbformat": 4,
 "nbformat_minor": 4
}
